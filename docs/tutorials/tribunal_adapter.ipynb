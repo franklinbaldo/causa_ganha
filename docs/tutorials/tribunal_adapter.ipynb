{
 "cells": [
  {
   "cell_type": "markdown",
   "metadata": {},
   "source": [
    "# Tutorial: Adicionando um novo tribunal\n",
    "Este notebook demonstra como criar e registrar um adaptador."
   ]
  },
  {
   "cell_type": "code",
   "execution_count": null,
   "metadata": {},
   "outputs": [],
   "source": [
    "from tribunais import register_tribunal, get_adapter\n",
    "from models.interfaces import DiarioDiscovery, DiarioDownloader, DiarioAnalyzer, TribunalAdapter\n",
    "from models.diario import Diario\n",
    "from datetime import date"
   ]
  },
  {
   "cell_type": "markdown",
   "metadata": {},
   "source": [
    "## Passo 1: Defina classes básicas"
   ]
  },
  {
   "cell_type": "code",
   "execution_count": null,
   "metadata": {},
   "outputs": [],
   "source": [
    "class DummyDiscovery(DiarioDiscovery):\n",
    "    def get_diario_url(self, target_date: date):\n",
    "        return f'https://example.com/{target_date.isoformat()}.pdf'\n",
    "    def get_latest_diario_url(self):\n",
    "        return self.get_diario_url(date.today())\n",
    "    @property\n",
    "    def tribunal_code(self) -> str:\n",
    "        return 'dummy'\n",
    "\n",
    "class DummyDownloader(DiarioDownloader):\n",
    "    def download_diario(self, diario: Diario) -> Diario:\n",
    "        diario.update_status('downloaded')\n",
    "        return diario\n",
    "    def archive_to_ia(self, diario: Diario) -> Diario:\n",
    "        diario.ia_identifier = 'ia-dummy'\n",
    "        return diario\n",
    "\n",
    "class DummyAnalyzer(DiarioAnalyzer):\n",
    "    def extract_decisions(self, diario: Diario):\n",
    "        return []\n",
    "\n",
    "class DummyAdapter(TribunalAdapter):\n",
    "    @property\n",
    "    def discovery(self):\n",
    "        return DummyDiscovery()\n",
    "    @property\n",
    "    def downloader(self):\n",
    "        return DummyDownloader()\n",
    "    @property\n",
    "    def analyzer(self):\n",
    "        return DummyAnalyzer()\n",
    "    @property\n",
    "    def tribunal_code(self) -> str:\n",
    "        return 'dummy'"
   ]
  },
  {
   "cell_type": "markdown",
   "metadata": {},
   "source": [
    "## Passo 2: Registrar e usar o adaptador"
   ]
  },
  {
   "cell_type": "code",
   "execution_count": null,
   "metadata": {},
   "outputs": [],
   "source": [
    "register_tribunal('dummy', DummyDiscovery, DummyDownloader, DummyAnalyzer, DummyAdapter)\n",
    "adapter = get_adapter('dummy')\n",
    "diario = adapter.create_diario(date(2025, 1, 1))\n",
    "print(diario)"
   ]
  }
 ],
 "metadata": {
  "kernelspec": {
   "display_name": "Python 3",
   "language": "python",
   "name": "python3"
  },
  "language_info": {
   "name": "python",
   "pygments_lexer": "ipython3"
  }
 },
 "nbformat": 4,
 "nbformat_minor": 5
}
