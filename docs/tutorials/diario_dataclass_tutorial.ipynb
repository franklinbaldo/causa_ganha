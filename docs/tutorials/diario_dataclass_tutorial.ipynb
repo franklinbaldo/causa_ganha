{
 "cells": [
  {
   "cell_type": "markdown",
   "metadata": {},
   "source": [
    "# Tutorial: Using the Diario Dataclass\n",
    "\n",
    "This tutorial introduces the `Diario` dataclass, a unified representation for judicial diaries from various tribunals within the CausaGanha project. It's designed to simplify how diario information is handled throughout the system."
   ]
  },
  {
   "cell_type": "markdown",
   "metadata": {},
   "source": [
    "## 1. Understanding the `Diario` Dataclass\n",
    "\n",
    "The `Diario` dataclass is defined in `src/models/diario.py`. Its main purpose is to provide a consistent structure for diario data, regardless of the source tribunal.\n",
    "\n",
    "Key fields include:\n",
    "- `tribunal`: Short identifier for the tribunal (e.g., 'tjro', 'tjsp').\n",
    "- `data`: The publication date of the diario (`datetime.date` object).\n",
    "- `url`: The URL where the diario can be found.\n",
    "- `filename`: Optional filename for the diario PDF.\n",
    "- `hash`: Optional hash of the PDF content.\n",
    "- `pdf_path`: Optional local path to the downloaded PDF (`pathlib.Path` object).\n",
    "- `ia_identifier`: Optional Internet Archive identifier.\n",
    "- `status`: Current processing status (e.g., 'pending', 'downloaded').\n",
    "- `metadata`: A dictionary for any additional tribunal-specific metadata."
   ]
  },
  {
   "cell_type": "markdown",
   "metadata": {},
   "source": [
    "## 2. Creating a `Diario` Instance\n",
    "\n",
    "You can create a `Diario` instance by providing the required fields. Let's assume the necessary modules are in our Python path."
   ]
  },
  {
   "cell_type": "code",
   "execution_count": null,
   "metadata": {},
   "outputs": [],
   "source": [
    "from datetime import date\n",
    "from pathlib import Path\n",
    "# Assuming src is in PYTHONPATH or you are running from project root\n",
    "from src.models.diario import Diario\n",
    "\n",
    "# Example: Creating a Diario instance for a TJRO diario\n",
    "tjro_diario = Diario(\n",
    "    tribunal='tjro',\n",
    "    data=date(2024, 7, 15),\n",
    "    url='https://www.tjro.jus.br/novodiario/2024/20240715N132.pdf',\n",
    "    filename='20240715N132.pdf',\n",
    "    status='pending'\n",
    ")\n",
    "\n",
    "print(f\"Created Diario: {tjro_diario.display_name}\")\n",
    "print(f\"Tribunal: {tjro_diario.tribunal}\")\n",
    "print(f\"Date: {tjro_diario.data}\")\n",
    "print(f\"URL: {tjro_diario.url}\")\n",
    "print(f\"Status: {tjro_diario.status}\")"
   ]
  },
  {
   "cell_type": "markdown",
   "metadata": {},
   "source": [
    "## 3. Key Properties\n",
    "\n",
    "The `Diario` dataclass has some useful properties:"
   ]
  },
  {
   "cell_type": "code",
   "execution_count": null,
   "metadata": {},
   "outputs": [],
   "source": [
    "# Using the tjro_diario instance from the previous cell\n",
    "\n",
    "# display_name: A human-readable identifier\n",
    "print(f\"Display Name: {tjro_diario.display_name}\")\n",
    "\n",
    "# queue_item: Converts the Diario instance to a dictionary format suitable for the job_queue database table\n",
    "diario_queue_item = tjro_diario.queue_item\n",
    "print(f\"\\nQueue Item Format:\")\n",
    "for key, value in diario_queue_item.items():\n",
    "    print(f\"  {key}: {value}\")"
   ]
  },
  {
   "cell_type": "markdown",
   "metadata": {},
   "source": [
    "## 4. Creating from a Queue Item\n",
    "\n",
    "You can also create a `Diario` instance from a dictionary that represents a row from the `job_queue` database table using the `from_queue_item` class method."
   ]
  },
  {
   "cell_type": "code",
   "execution_count": null,
   "metadata": {},
   "outputs": [],
   "source": [
    "# Example queue item (simulating a database row)\n",
    "sample_queue_row = {\n",
    "    'url': 'https://www.tjsp.jus.br/diario/2024/20240716_100.pdf',\n",
    "    'date': '2024-07-16',\n",
    "    'tribunal': 'tjsp',\n",
    "    'filename': '20240716_100.pdf',\n",
    "    'metadata': {'page_count': 150},\n",
    "    'ia_identifier': 'tjsp-diario-20240716',\n",
    "    'status': 'downloaded'\n",
    "}\n",
    "\n",
    "tjsp_diario = Diario.from_queue_item(sample_queue_row)\n",
    "\n",
    "print(f\"Restored Diario: {tjsp_diario.display_name}\")\n",
    "print(f\"Tribunal: {tjsp_diario.tribunal}\")\n",
    "print(f\"Date: {tjsp_diario.data}\")\n",
    "print(f\"Status: {tjsp_diario.status}\")\n",
    "print(f\"IA Identifier: {tjsp_diario.ia_identifier}\")\n",
    "print(f\"Metadata: {tjsp_diario.metadata}\")"
   ]
  },
  {
   "cell_type": "markdown",
   "metadata": {},
   "source": [
    "## 5. Related Interfaces\n",
    "\n",
    "The `Diario` dataclass is designed to work with a set of abstract interfaces defined in `src/models/interfaces.py`:\n",
    "- `DiarioDiscovery`: For discovering diario URLs.\n",
    "- `DiarioDownloader`: For downloading diario PDFs and archiving to Internet Archive.\n",
    "- `DiarioAnalyzer`: For extracting content from diarios.\n",
    "\n",
    "Implementations of these interfaces for specific tribunals (e.g., `TJRODiscovery`) will typically consume or produce `Diario` objects, ensuring a consistent workflow."
   ]
  },
  {
   "cell_type": "markdown",
   "metadata": {},
   "source": [
    "## 6. CLI Integration\n",
    "\n",
    "The plan for `diario-class.md` includes integrating this new dataclass into the existing CLI (`src/cli.py`). \n",
    "A flag `--as-diario` will be added to commands like `get-urls` to enable the new workflow using the `Diario` dataclass.\n",
    "\n",
    "**Example (conceptual based on `diario-class.md` plan):**\n",
    "```bash\n",
    "# This command would use the new Diario-based workflow\n",
    "causaganha get-urls --date 2024-07-15 --tribunal tjro --as-diario --to-queue\n",
    "```\n",
    "This command would leverage a `DiarioDiscovery` implementation for 'tjro' to find the URL for the given date, create a `Diario` object, and then add its `queue_item` representation to the job queue."
   ]
  },
  {
   "cell_type": "markdown",
   "metadata": {},
   "source": [
    "## Conclusion\n",
    "\n",
    "The `Diario` dataclass provides a standardized way to handle judicial diary information, facilitating easier integration of multiple tribunals and more robust data processing pipelines. As the CausaGanha project evolves, this dataclass will be central to managing diario-related operations."
   ]
  }
 ],
 "metadata": {
  "kernelspec": {
   "display_name": "Python 3",
   "language": "python",
   "name": "python3"
  },
  "language_info": {
   "codemirror_mode": {
    "name": "ipython",
    "version": 3
   },
   "file_extension": ".py",
   "mimetype": "text/x-python",
   "name": "python",
   "nbconvert_exporter": "python",
   "pygments_lexer": "ipython3",
   "version": "3.10.0"
  }
 },
 "nbformat": 4,
 "nbformat_minor": 5
}
